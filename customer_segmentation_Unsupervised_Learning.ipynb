{
 "cells": [
  {
   "cell_type": "markdown",
   "metadata": {},
   "source": [
    "# TASK 1: Preparing the data and first look"
   ]
  },
  {
   "cell_type": "markdown",
   "metadata": {},
   "source": [
    "## Step 1: Beginnig"
   ]
  },
  {
   "cell_type": "markdown",
   "metadata": {},
   "source": [
    "### Loading libraries."
   ]
  },
  {
   "cell_type": "code",
   "execution_count": 1,
   "metadata": {},
   "outputs": [],
   "source": [
    "import findspark\n",
    "import pandas as pd\n",
    "import warnings"
   ]
  },
  {
   "cell_type": "code",
   "execution_count": 2,
   "metadata": {},
   "outputs": [],
   "source": [
    "findspark.init(\"/opt/manual/spark\")"
   ]
  },
  {
   "cell_type": "code",
   "execution_count": 3,
   "metadata": {},
   "outputs": [],
   "source": [
    "from pyspark.sql import SparkSession, functions as F\n",
    "import pandas as pd"
   ]
  },
  {
   "cell_type": "code",
   "execution_count": 4,
   "metadata": {},
   "outputs": [],
   "source": [
    "spark = SparkSession.builder \\\n",
    ".appName(\"KMeansMethod\") \\\n",
    ".master(\"local[*]\") \\\n",
    ".config(\"spark.sql.shuffle.partitions\",\"2\") \\\n",
    ".getOrCreate()"
   ]
  },
  {
   "cell_type": "markdown",
   "metadata": {},
   "source": [
    "### Veriyi datasets klasörü altına taşıyınız."
   ]
  },
  {
   "cell_type": "code",
   "execution_count": 5,
   "metadata": {},
   "outputs": [],
   "source": [
    "# ! hdfs dfs -put ~/datasets/flo_ismail.csv /user/train/datasets"
   ]
  },
  {
   "cell_type": "markdown",
   "metadata": {},
   "source": [
    "### Spark session oluşturunuz."
   ]
  },
  {
   "cell_type": "code",
   "execution_count": 6,
   "metadata": {},
   "outputs": [],
   "source": [
    "df = spark.read.format(\"csv\") \\\n",
    ".option(\"header\", True) \\\n",
    ".option(\"inferSchema\", True) \\\n",
    ".option('delimiter', '|') \\\n",
    ".load(\"/user/train/datasets/flo_ismail.csv\")"
   ]
  },
  {
   "cell_type": "markdown",
   "metadata": {},
   "source": [
    "## Adım 2: İlk Bakış"
   ]
  },
  {
   "cell_type": "code",
   "execution_count": 7,
   "metadata": {},
   "outputs": [
    {
     "data": {
      "text/html": [
       "<div>\n",
       "<style scoped>\n",
       "    .dataframe tbody tr th:only-of-type {\n",
       "        vertical-align: middle;\n",
       "    }\n",
       "\n",
       "    .dataframe tbody tr th {\n",
       "        vertical-align: top;\n",
       "    }\n",
       "\n",
       "    .dataframe thead th {\n",
       "        text-align: right;\n",
       "    }\n",
       "</style>\n",
       "<table border=\"1\" class=\"dataframe\">\n",
       "  <thead>\n",
       "    <tr style=\"text-align: right;\">\n",
       "      <th></th>\n",
       "      <th>master_id</th>\n",
       "      <th>order_channel</th>\n",
       "      <th>platform_type</th>\n",
       "      <th>last_order_channel</th>\n",
       "      <th>first_order_date</th>\n",
       "      <th>last_order_date</th>\n",
       "      <th>last_order_date_online</th>\n",
       "      <th>last_order_date_offline</th>\n",
       "      <th>order_num_total_ever_online</th>\n",
       "      <th>order_num_total_ever_offline</th>\n",
       "      <th>customer_value_total_ever_offline</th>\n",
       "      <th>customer_value_total_ever_online</th>\n",
       "      <th>interested_in_categories_12</th>\n",
       "      <th>online_product_group_amount_top_name_12</th>\n",
       "      <th>offline_product_group_name_12</th>\n",
       "      <th>last_order_date_new</th>\n",
       "      <th>store_type</th>\n",
       "    </tr>\n",
       "  </thead>\n",
       "  <tbody>\n",
       "    <tr>\n",
       "      <th>0</th>\n",
       "      <td>b3ace094-a17f-11e9-a2fc-000d3a38a36f</td>\n",
       "      <td>Offline</td>\n",
       "      <td>Offline</td>\n",
       "      <td>Offline</td>\n",
       "      <td>2019-02-23 12:59:17</td>\n",
       "      <td>2019-02-23 12:59:17</td>\n",
       "      <td>NaT</td>\n",
       "      <td>2019-02-23 12:59:17</td>\n",
       "      <td>NaN</td>\n",
       "      <td>1.0</td>\n",
       "      <td>212.98</td>\n",
       "      <td>0.00</td>\n",
       "      <td>None</td>\n",
       "      <td>None</td>\n",
       "      <td>None</td>\n",
       "      <td>2019-02-23</td>\n",
       "      <td>A</td>\n",
       "    </tr>\n",
       "    <tr>\n",
       "      <th>1</th>\n",
       "      <td>c57d7c4c-a950-11e9-a2fc-000d3a38a36f</td>\n",
       "      <td>Offline</td>\n",
       "      <td>OmniChannel</td>\n",
       "      <td>Offline</td>\n",
       "      <td>2019-12-01 16:48:09</td>\n",
       "      <td>2019-12-01 16:48:09</td>\n",
       "      <td>NaT</td>\n",
       "      <td>2019-12-01 16:48:09</td>\n",
       "      <td>NaN</td>\n",
       "      <td>1.0</td>\n",
       "      <td>199.98</td>\n",
       "      <td>0.00</td>\n",
       "      <td>None</td>\n",
       "      <td>None</td>\n",
       "      <td>None</td>\n",
       "      <td>2019-12-01</td>\n",
       "      <td>A</td>\n",
       "    </tr>\n",
       "    <tr>\n",
       "      <th>2</th>\n",
       "      <td>602897a6-cdac-11ea-b31f-000d3a38a36f</td>\n",
       "      <td>Offline</td>\n",
       "      <td>Offline</td>\n",
       "      <td>Offline</td>\n",
       "      <td>2020-07-24 15:49:47</td>\n",
       "      <td>2020-07-24 15:49:47</td>\n",
       "      <td>NaT</td>\n",
       "      <td>2020-07-24 15:49:47</td>\n",
       "      <td>NaN</td>\n",
       "      <td>1.0</td>\n",
       "      <td>140.49</td>\n",
       "      <td>0.00</td>\n",
       "      <td>[ERKEK]</td>\n",
       "      <td>None</td>\n",
       "      <td>ERKEK</td>\n",
       "      <td>2020-07-24</td>\n",
       "      <td>A</td>\n",
       "    </tr>\n",
       "    <tr>\n",
       "      <th>3</th>\n",
       "      <td>388e4c4e-af86-11e9-a2fc-000d3a38a36f</td>\n",
       "      <td>Mobile</td>\n",
       "      <td>Online</td>\n",
       "      <td>Mobile</td>\n",
       "      <td>2018-12-31 07:22:07</td>\n",
       "      <td>2018-12-31 07:22:07</td>\n",
       "      <td>2018-12-31 07:22:07</td>\n",
       "      <td>NaT</td>\n",
       "      <td>1.0</td>\n",
       "      <td>NaN</td>\n",
       "      <td>0.00</td>\n",
       "      <td>174.99</td>\n",
       "      <td>None</td>\n",
       "      <td>None</td>\n",
       "      <td>None</td>\n",
       "      <td>2018-12-31</td>\n",
       "      <td>A</td>\n",
       "    </tr>\n",
       "    <tr>\n",
       "      <th>4</th>\n",
       "      <td>80664354-adf0-11eb-8f64-000d3a299ebf</td>\n",
       "      <td>Desktop</td>\n",
       "      <td>Online</td>\n",
       "      <td>Desktop</td>\n",
       "      <td>2021-05-05 21:07:02</td>\n",
       "      <td>2021-05-05 22:39:36</td>\n",
       "      <td>2021-05-05 22:39:36</td>\n",
       "      <td>NaT</td>\n",
       "      <td>2.0</td>\n",
       "      <td>NaN</td>\n",
       "      <td>0.00</td>\n",
       "      <td>283.95</td>\n",
       "      <td>[]</td>\n",
       "      <td>None</td>\n",
       "      <td>None</td>\n",
       "      <td>2021-05-05</td>\n",
       "      <td>A</td>\n",
       "    </tr>\n",
       "  </tbody>\n",
       "</table>\n",
       "</div>"
      ],
      "text/plain": [
       "                              master_id order_channel platform_type  \\\n",
       "0  b3ace094-a17f-11e9-a2fc-000d3a38a36f       Offline       Offline   \n",
       "1  c57d7c4c-a950-11e9-a2fc-000d3a38a36f       Offline   OmniChannel   \n",
       "2  602897a6-cdac-11ea-b31f-000d3a38a36f       Offline       Offline   \n",
       "3  388e4c4e-af86-11e9-a2fc-000d3a38a36f        Mobile        Online   \n",
       "4  80664354-adf0-11eb-8f64-000d3a299ebf       Desktop        Online   \n",
       "\n",
       "  last_order_channel    first_order_date     last_order_date  \\\n",
       "0            Offline 2019-02-23 12:59:17 2019-02-23 12:59:17   \n",
       "1            Offline 2019-12-01 16:48:09 2019-12-01 16:48:09   \n",
       "2            Offline 2020-07-24 15:49:47 2020-07-24 15:49:47   \n",
       "3             Mobile 2018-12-31 07:22:07 2018-12-31 07:22:07   \n",
       "4            Desktop 2021-05-05 21:07:02 2021-05-05 22:39:36   \n",
       "\n",
       "  last_order_date_online last_order_date_offline  order_num_total_ever_online  \\\n",
       "0                    NaT     2019-02-23 12:59:17                          NaN   \n",
       "1                    NaT     2019-12-01 16:48:09                          NaN   \n",
       "2                    NaT     2020-07-24 15:49:47                          NaN   \n",
       "3    2018-12-31 07:22:07                     NaT                          1.0   \n",
       "4    2021-05-05 22:39:36                     NaT                          2.0   \n",
       "\n",
       "   order_num_total_ever_offline  customer_value_total_ever_offline  \\\n",
       "0                           1.0                             212.98   \n",
       "1                           1.0                             199.98   \n",
       "2                           1.0                             140.49   \n",
       "3                           NaN                               0.00   \n",
       "4                           NaN                               0.00   \n",
       "\n",
       "   customer_value_total_ever_online interested_in_categories_12  \\\n",
       "0                              0.00                        None   \n",
       "1                              0.00                        None   \n",
       "2                              0.00                     [ERKEK]   \n",
       "3                            174.99                        None   \n",
       "4                            283.95                          []   \n",
       "\n",
       "  online_product_group_amount_top_name_12 offline_product_group_name_12  \\\n",
       "0                                    None                          None   \n",
       "1                                    None                          None   \n",
       "2                                    None                         ERKEK   \n",
       "3                                    None                          None   \n",
       "4                                    None                          None   \n",
       "\n",
       "  last_order_date_new store_type  \n",
       "0          2019-02-23          A  \n",
       "1          2019-12-01          A  \n",
       "2          2020-07-24          A  \n",
       "3          2018-12-31          A  \n",
       "4          2021-05-05          A  "
      ]
     },
     "execution_count": 7,
     "metadata": {},
     "output_type": "execute_result"
    }
   ],
   "source": [
    "df.limit(5).toPandas()"
   ]
  },
  {
   "cell_type": "code",
   "execution_count": 8,
   "metadata": {},
   "outputs": [
    {
     "data": {
      "text/plain": [
       "DataFrame[master_id: string, order_channel: string, platform_type: string, last_order_channel: string, first_order_date: timestamp, last_order_date: timestamp, last_order_date_online: timestamp, last_order_date_offline: timestamp, order_num_total_ever_online: double, order_num_total_ever_offline: double, customer_value_total_ever_offline: double, customer_value_total_ever_online: double, interested_in_categories_12: string, online_product_group_amount_top_name_12: string, offline_product_group_name_12: string, last_order_date_new: string, store_type: string]"
      ]
     },
     "execution_count": 8,
     "metadata": {},
     "output_type": "execute_result"
    }
   ],
   "source": [
    "df.persist()"
   ]
  },
  {
   "cell_type": "code",
   "execution_count": 9,
   "metadata": {},
   "outputs": [
    {
     "name": "stdout",
     "output_type": "stream",
     "text": [
      "root\n",
      " |-- master_id: string (nullable = true)\n",
      " |-- order_channel: string (nullable = true)\n",
      " |-- platform_type: string (nullable = true)\n",
      " |-- last_order_channel: string (nullable = true)\n",
      " |-- first_order_date: timestamp (nullable = true)\n",
      " |-- last_order_date: timestamp (nullable = true)\n",
      " |-- last_order_date_online: timestamp (nullable = true)\n",
      " |-- last_order_date_offline: timestamp (nullable = true)\n",
      " |-- order_num_total_ever_online: double (nullable = true)\n",
      " |-- order_num_total_ever_offline: double (nullable = true)\n",
      " |-- customer_value_total_ever_offline: double (nullable = true)\n",
      " |-- customer_value_total_ever_online: double (nullable = true)\n",
      " |-- interested_in_categories_12: string (nullable = true)\n",
      " |-- online_product_group_amount_top_name_12: string (nullable = true)\n",
      " |-- offline_product_group_name_12: string (nullable = true)\n",
      " |-- last_order_date_new: string (nullable = true)\n",
      " |-- store_type: string (nullable = true)\n",
      "\n"
     ]
    }
   ],
   "source": [
    "df.printSchema()"
   ]
  },
  {
   "cell_type": "code",
   "execution_count": 10,
   "metadata": {},
   "outputs": [
    {
     "name": "stdout",
     "output_type": "stream",
     "text": [
      "100000\n"
     ]
    }
   ],
   "source": [
    "df_count = df.count()\n",
    "print(df_count)"
   ]
  },
  {
   "cell_type": "code",
   "execution_count": 11,
   "metadata": {},
   "outputs": [
    {
     "data": {
      "text/plain": [
       "17"
      ]
     },
     "execution_count": 11,
     "metadata": {},
     "output_type": "execute_result"
    }
   ],
   "source": [
    "len(df.columns)\n"
   ]
  },
  {
   "cell_type": "markdown",
   "metadata": {},
   "source": [
    "## Adım 3: Eksik Gözlemler"
   ]
  },
  {
   "cell_type": "code",
   "execution_count": 12,
   "metadata": {},
   "outputs": [
    {
     "name": "stdout",
     "output_type": "stream",
     "text": [
      "last_order_date_online  timestamp type null values: 70784 % 70.784\n",
      "last_order_date_offline  timestamp type null values: 21703 % 21.703\n",
      "order_num_total_ever_online  double type null values: 70784 % 70.784\n",
      "order_num_total_ever_offline  double type null values: 21703 % 21.703\n",
      "interested_in_categories_12  string type null values: 56590 % 56.589999999999996\n",
      "online_product_group_amount_top_name_12  string type null values: 88295 % 88.295\n",
      "offline_product_group_name_12  string type null values: 77209 % 77.209\n"
     ]
    }
   ],
   "source": [
    "for col_name in df.dtypes:\n",
    "    null_count = df.filter( (F.col(col_name[0]).isNull()) | (F.col(col_name[0]) == \"\")).count()\n",
    "    \n",
    "    if null_count > 0:\n",
    "        print(\"{}  {} type null values: {} % {}\".format(col_name[0], col_name[1], null_count, (null_count/df_count * 100)))"
   ]
  },
  {
   "cell_type": "markdown",
   "metadata": {},
   "source": [
    "# Görev 2: Veri Analizi"
   ]
  },
  {
   "cell_type": "markdown",
   "metadata": {},
   "source": [
    "## Adım 1: Unique Değişken Kontrolü"
   ]
  },
  {
   "cell_type": "markdown",
   "metadata": {},
   "source": [
    "### master_id değişkeninin unique olup olmadığını kontrol ediniz."
   ]
  },
  {
   "cell_type": "code",
   "execution_count": 17,
   "metadata": {},
   "outputs": [
    {
     "name": "stdout",
     "output_type": "stream",
     "text": [
      "master_id is unique\n"
     ]
    }
   ],
   "source": [
    "if df_count == df.select(\"master_id\").distinct().count():\n",
    "    print(\"master_id is unique\")\n",
    "else:print(\"not unique\")"
   ]
  },
  {
   "cell_type": "markdown",
   "metadata": {},
   "source": [
    "## Adım 2: Veriyi Anlama – Groupby"
   ]
  },
  {
   "cell_type": "code",
   "execution_count": 18,
   "metadata": {},
   "outputs": [
    {
     "name": "stdout",
     "output_type": "stream",
     "text": [
      "+-------------+-------------+-----+\n",
      "|platform_type|order_channel|count|\n",
      "+-------------+-------------+-----+\n",
      "|  OmniChannel|      Offline| 4793|\n",
      "|       Online|      Ios App| 3008|\n",
      "|      Offline|      Offline|65991|\n",
      "|       Online|       Mobile| 6451|\n",
      "|       Online|      Desktop| 3253|\n",
      "|       Online|  Android App| 8728|\n",
      "|  OmniChannel|       Mobile| 2061|\n",
      "|  OmniChannel|  Android App| 3261|\n",
      "|  OmniChannel|      Ios App|  956|\n",
      "|  OmniChannel|      Desktop| 1498|\n",
      "+-------------+-------------+-----+\n",
      "\n"
     ]
    }
   ],
   "source": [
    "df.groupBy(\"platform_type\", \"order_channel\").count().show()"
   ]
  },
  {
   "cell_type": "markdown",
   "metadata": {},
   "source": [
    "## Adım 3: Omnichannel"
   ]
  },
  {
   "cell_type": "code",
   "execution_count": 19,
   "metadata": {
    "scrolled": true
   },
   "outputs": [
    {
     "data": {
      "text/plain": [
       "70784"
      ]
     },
     "execution_count": 19,
     "metadata": {},
     "output_type": "execute_result"
    }
   ],
   "source": [
    "df.filter(F.col(\"order_num_total_ever_online\").isNull()).count()"
   ]
  },
  {
   "cell_type": "code",
   "execution_count": 20,
   "metadata": {},
   "outputs": [
    {
     "data": {
      "text/plain": [
       "21703"
      ]
     },
     "execution_count": 20,
     "metadata": {},
     "output_type": "execute_result"
    }
   ],
   "source": [
    "df.filter(F.col(\"order_num_total_ever_offline\").isNull()).count()"
   ]
  },
  {
   "cell_type": "code",
   "execution_count": 21,
   "metadata": {},
   "outputs": [
    {
     "data": {
      "text/html": [
       "<div>\n",
       "<style scoped>\n",
       "    .dataframe tbody tr th:only-of-type {\n",
       "        vertical-align: middle;\n",
       "    }\n",
       "\n",
       "    .dataframe tbody tr th {\n",
       "        vertical-align: top;\n",
       "    }\n",
       "\n",
       "    .dataframe thead th {\n",
       "        text-align: right;\n",
       "    }\n",
       "</style>\n",
       "<table border=\"1\" class=\"dataframe\">\n",
       "  <thead>\n",
       "    <tr style=\"text-align: right;\">\n",
       "      <th></th>\n",
       "      <th>master_id</th>\n",
       "      <th>order_channel</th>\n",
       "      <th>platform_type</th>\n",
       "      <th>last_order_channel</th>\n",
       "      <th>first_order_date</th>\n",
       "      <th>last_order_date</th>\n",
       "      <th>last_order_date_online</th>\n",
       "      <th>last_order_date_offline</th>\n",
       "      <th>order_num_total_ever_online</th>\n",
       "      <th>order_num_total_ever_offline</th>\n",
       "      <th>customer_value_total_ever_offline</th>\n",
       "      <th>customer_value_total_ever_online</th>\n",
       "      <th>interested_in_categories_12</th>\n",
       "      <th>online_product_group_amount_top_name_12</th>\n",
       "      <th>offline_product_group_name_12</th>\n",
       "      <th>last_order_date_new</th>\n",
       "      <th>store_type</th>\n",
       "    </tr>\n",
       "  </thead>\n",
       "  <tbody>\n",
       "    <tr>\n",
       "      <th>0</th>\n",
       "      <td>b3ace094-a17f-11e9-a2fc-000d3a38a36f</td>\n",
       "      <td>Offline</td>\n",
       "      <td>Offline</td>\n",
       "      <td>Offline</td>\n",
       "      <td>2019-02-23 12:59:17</td>\n",
       "      <td>2019-02-23 12:59:17</td>\n",
       "      <td>NaT</td>\n",
       "      <td>2019-02-23 12:59:17</td>\n",
       "      <td>NaN</td>\n",
       "      <td>1.0</td>\n",
       "      <td>212.98</td>\n",
       "      <td>0.00</td>\n",
       "      <td>None</td>\n",
       "      <td>None</td>\n",
       "      <td>None</td>\n",
       "      <td>2019-02-23</td>\n",
       "      <td>A</td>\n",
       "    </tr>\n",
       "    <tr>\n",
       "      <th>1</th>\n",
       "      <td>c57d7c4c-a950-11e9-a2fc-000d3a38a36f</td>\n",
       "      <td>Offline</td>\n",
       "      <td>OmniChannel</td>\n",
       "      <td>Offline</td>\n",
       "      <td>2019-12-01 16:48:09</td>\n",
       "      <td>2019-12-01 16:48:09</td>\n",
       "      <td>NaT</td>\n",
       "      <td>2019-12-01 16:48:09</td>\n",
       "      <td>NaN</td>\n",
       "      <td>1.0</td>\n",
       "      <td>199.98</td>\n",
       "      <td>0.00</td>\n",
       "      <td>None</td>\n",
       "      <td>None</td>\n",
       "      <td>None</td>\n",
       "      <td>2019-12-01</td>\n",
       "      <td>A</td>\n",
       "    </tr>\n",
       "    <tr>\n",
       "      <th>2</th>\n",
       "      <td>602897a6-cdac-11ea-b31f-000d3a38a36f</td>\n",
       "      <td>Offline</td>\n",
       "      <td>Offline</td>\n",
       "      <td>Offline</td>\n",
       "      <td>2020-07-24 15:49:47</td>\n",
       "      <td>2020-07-24 15:49:47</td>\n",
       "      <td>NaT</td>\n",
       "      <td>2020-07-24 15:49:47</td>\n",
       "      <td>NaN</td>\n",
       "      <td>1.0</td>\n",
       "      <td>140.49</td>\n",
       "      <td>0.00</td>\n",
       "      <td>[ERKEK]</td>\n",
       "      <td>None</td>\n",
       "      <td>ERKEK</td>\n",
       "      <td>2020-07-24</td>\n",
       "      <td>A</td>\n",
       "    </tr>\n",
       "    <tr>\n",
       "      <th>3</th>\n",
       "      <td>388e4c4e-af86-11e9-a2fc-000d3a38a36f</td>\n",
       "      <td>Mobile</td>\n",
       "      <td>Online</td>\n",
       "      <td>Mobile</td>\n",
       "      <td>2018-12-31 07:22:07</td>\n",
       "      <td>2018-12-31 07:22:07</td>\n",
       "      <td>2018-12-31 07:22:07</td>\n",
       "      <td>NaT</td>\n",
       "      <td>1.0</td>\n",
       "      <td>NaN</td>\n",
       "      <td>0.00</td>\n",
       "      <td>174.99</td>\n",
       "      <td>None</td>\n",
       "      <td>None</td>\n",
       "      <td>None</td>\n",
       "      <td>2018-12-31</td>\n",
       "      <td>A</td>\n",
       "    </tr>\n",
       "    <tr>\n",
       "      <th>4</th>\n",
       "      <td>80664354-adf0-11eb-8f64-000d3a299ebf</td>\n",
       "      <td>Desktop</td>\n",
       "      <td>Online</td>\n",
       "      <td>Desktop</td>\n",
       "      <td>2021-05-05 21:07:02</td>\n",
       "      <td>2021-05-05 22:39:36</td>\n",
       "      <td>2021-05-05 22:39:36</td>\n",
       "      <td>NaT</td>\n",
       "      <td>2.0</td>\n",
       "      <td>NaN</td>\n",
       "      <td>0.00</td>\n",
       "      <td>283.95</td>\n",
       "      <td>[]</td>\n",
       "      <td>None</td>\n",
       "      <td>None</td>\n",
       "      <td>2021-05-05</td>\n",
       "      <td>A</td>\n",
       "    </tr>\n",
       "    <tr>\n",
       "      <th>...</th>\n",
       "      <td>...</td>\n",
       "      <td>...</td>\n",
       "      <td>...</td>\n",
       "      <td>...</td>\n",
       "      <td>...</td>\n",
       "      <td>...</td>\n",
       "      <td>...</td>\n",
       "      <td>...</td>\n",
       "      <td>...</td>\n",
       "      <td>...</td>\n",
       "      <td>...</td>\n",
       "      <td>...</td>\n",
       "      <td>...</td>\n",
       "      <td>...</td>\n",
       "      <td>...</td>\n",
       "      <td>...</td>\n",
       "      <td>...</td>\n",
       "    </tr>\n",
       "    <tr>\n",
       "      <th>99995</th>\n",
       "      <td>f1295546-708d-11ea-8021-000d3a38a36f</td>\n",
       "      <td>Offline</td>\n",
       "      <td>Offline</td>\n",
       "      <td>Offline</td>\n",
       "      <td>2020-02-09 14:21:01</td>\n",
       "      <td>2020-02-09 14:21:01</td>\n",
       "      <td>NaT</td>\n",
       "      <td>2020-02-09 14:21:01</td>\n",
       "      <td>NaN</td>\n",
       "      <td>1.0</td>\n",
       "      <td>69.99</td>\n",
       "      <td>0.00</td>\n",
       "      <td>None</td>\n",
       "      <td>None</td>\n",
       "      <td>None</td>\n",
       "      <td>2020-02-09</td>\n",
       "      <td>A</td>\n",
       "    </tr>\n",
       "    <tr>\n",
       "      <th>99996</th>\n",
       "      <td>04ed98e6-2b86-11ea-853d-000d3a38a36f</td>\n",
       "      <td>Offline</td>\n",
       "      <td>Offline</td>\n",
       "      <td>Offline</td>\n",
       "      <td>2019-11-30 16:55:09</td>\n",
       "      <td>2019-12-29 12:22:46</td>\n",
       "      <td>NaT</td>\n",
       "      <td>2019-12-29 12:22:46</td>\n",
       "      <td>NaN</td>\n",
       "      <td>2.0</td>\n",
       "      <td>309.89</td>\n",
       "      <td>0.00</td>\n",
       "      <td>None</td>\n",
       "      <td>None</td>\n",
       "      <td>None</td>\n",
       "      <td>2019-12-29</td>\n",
       "      <td>A</td>\n",
       "    </tr>\n",
       "    <tr>\n",
       "      <th>99997</th>\n",
       "      <td>d46e9bba-f670-11e9-841e-000d3a38a36f</td>\n",
       "      <td>Offline</td>\n",
       "      <td>Offline</td>\n",
       "      <td>Offline</td>\n",
       "      <td>2019-10-24 17:53:04</td>\n",
       "      <td>2019-10-24 17:53:04</td>\n",
       "      <td>NaT</td>\n",
       "      <td>2019-10-24 17:53:04</td>\n",
       "      <td>NaN</td>\n",
       "      <td>1.0</td>\n",
       "      <td>149.99</td>\n",
       "      <td>0.00</td>\n",
       "      <td>None</td>\n",
       "      <td>None</td>\n",
       "      <td>None</td>\n",
       "      <td>2019-10-24</td>\n",
       "      <td>A</td>\n",
       "    </tr>\n",
       "    <tr>\n",
       "      <th>99998</th>\n",
       "      <td>0dc97a82-0b25-11eb-8ffc-000d3a38a36f</td>\n",
       "      <td>Android App</td>\n",
       "      <td>Online</td>\n",
       "      <td>Android App</td>\n",
       "      <td>2020-10-11 15:40:12</td>\n",
       "      <td>2021-05-13 18:03:49</td>\n",
       "      <td>2021-05-13 18:03:49</td>\n",
       "      <td>NaT</td>\n",
       "      <td>4.0</td>\n",
       "      <td>NaN</td>\n",
       "      <td>0.00</td>\n",
       "      <td>767.42</td>\n",
       "      <td>[COCUK, KADIN]</td>\n",
       "      <td>KADIN</td>\n",
       "      <td>None</td>\n",
       "      <td>2021-05-13</td>\n",
       "      <td>A</td>\n",
       "    </tr>\n",
       "    <tr>\n",
       "      <th>99999</th>\n",
       "      <td>ec2b3236-b6f5-11ea-b48c-000d3a38a36f</td>\n",
       "      <td>Offline</td>\n",
       "      <td>Offline</td>\n",
       "      <td>Offline</td>\n",
       "      <td>2020-06-25 18:08:04</td>\n",
       "      <td>2020-06-25 18:08:04</td>\n",
       "      <td>NaT</td>\n",
       "      <td>2020-06-25 18:08:04</td>\n",
       "      <td>NaN</td>\n",
       "      <td>1.0</td>\n",
       "      <td>148.48</td>\n",
       "      <td>0.00</td>\n",
       "      <td>[ERKEK, KADIN]</td>\n",
       "      <td>None</td>\n",
       "      <td>ERKEK</td>\n",
       "      <td>2020-06-25</td>\n",
       "      <td>A</td>\n",
       "    </tr>\n",
       "  </tbody>\n",
       "</table>\n",
       "<p>100000 rows × 17 columns</p>\n",
       "</div>"
      ],
      "text/plain": [
       "                                  master_id order_channel platform_type  \\\n",
       "0      b3ace094-a17f-11e9-a2fc-000d3a38a36f       Offline       Offline   \n",
       "1      c57d7c4c-a950-11e9-a2fc-000d3a38a36f       Offline   OmniChannel   \n",
       "2      602897a6-cdac-11ea-b31f-000d3a38a36f       Offline       Offline   \n",
       "3      388e4c4e-af86-11e9-a2fc-000d3a38a36f        Mobile        Online   \n",
       "4      80664354-adf0-11eb-8f64-000d3a299ebf       Desktop        Online   \n",
       "...                                     ...           ...           ...   \n",
       "99995  f1295546-708d-11ea-8021-000d3a38a36f       Offline       Offline   \n",
       "99996  04ed98e6-2b86-11ea-853d-000d3a38a36f       Offline       Offline   \n",
       "99997  d46e9bba-f670-11e9-841e-000d3a38a36f       Offline       Offline   \n",
       "99998  0dc97a82-0b25-11eb-8ffc-000d3a38a36f   Android App        Online   \n",
       "99999  ec2b3236-b6f5-11ea-b48c-000d3a38a36f       Offline       Offline   \n",
       "\n",
       "      last_order_channel    first_order_date     last_order_date  \\\n",
       "0                Offline 2019-02-23 12:59:17 2019-02-23 12:59:17   \n",
       "1                Offline 2019-12-01 16:48:09 2019-12-01 16:48:09   \n",
       "2                Offline 2020-07-24 15:49:47 2020-07-24 15:49:47   \n",
       "3                 Mobile 2018-12-31 07:22:07 2018-12-31 07:22:07   \n",
       "4                Desktop 2021-05-05 21:07:02 2021-05-05 22:39:36   \n",
       "...                  ...                 ...                 ...   \n",
       "99995            Offline 2020-02-09 14:21:01 2020-02-09 14:21:01   \n",
       "99996            Offline 2019-11-30 16:55:09 2019-12-29 12:22:46   \n",
       "99997            Offline 2019-10-24 17:53:04 2019-10-24 17:53:04   \n",
       "99998        Android App 2020-10-11 15:40:12 2021-05-13 18:03:49   \n",
       "99999            Offline 2020-06-25 18:08:04 2020-06-25 18:08:04   \n",
       "\n",
       "      last_order_date_online last_order_date_offline  \\\n",
       "0                        NaT     2019-02-23 12:59:17   \n",
       "1                        NaT     2019-12-01 16:48:09   \n",
       "2                        NaT     2020-07-24 15:49:47   \n",
       "3        2018-12-31 07:22:07                     NaT   \n",
       "4        2021-05-05 22:39:36                     NaT   \n",
       "...                      ...                     ...   \n",
       "99995                    NaT     2020-02-09 14:21:01   \n",
       "99996                    NaT     2019-12-29 12:22:46   \n",
       "99997                    NaT     2019-10-24 17:53:04   \n",
       "99998    2021-05-13 18:03:49                     NaT   \n",
       "99999                    NaT     2020-06-25 18:08:04   \n",
       "\n",
       "       order_num_total_ever_online  order_num_total_ever_offline  \\\n",
       "0                              NaN                           1.0   \n",
       "1                              NaN                           1.0   \n",
       "2                              NaN                           1.0   \n",
       "3                              1.0                           NaN   \n",
       "4                              2.0                           NaN   \n",
       "...                            ...                           ...   \n",
       "99995                          NaN                           1.0   \n",
       "99996                          NaN                           2.0   \n",
       "99997                          NaN                           1.0   \n",
       "99998                          4.0                           NaN   \n",
       "99999                          NaN                           1.0   \n",
       "\n",
       "       customer_value_total_ever_offline  customer_value_total_ever_online  \\\n",
       "0                                 212.98                              0.00   \n",
       "1                                 199.98                              0.00   \n",
       "2                                 140.49                              0.00   \n",
       "3                                   0.00                            174.99   \n",
       "4                                   0.00                            283.95   \n",
       "...                                  ...                               ...   \n",
       "99995                              69.99                              0.00   \n",
       "99996                             309.89                              0.00   \n",
       "99997                             149.99                              0.00   \n",
       "99998                               0.00                            767.42   \n",
       "99999                             148.48                              0.00   \n",
       "\n",
       "      interested_in_categories_12 online_product_group_amount_top_name_12  \\\n",
       "0                            None                                    None   \n",
       "1                            None                                    None   \n",
       "2                         [ERKEK]                                    None   \n",
       "3                            None                                    None   \n",
       "4                              []                                    None   \n",
       "...                           ...                                     ...   \n",
       "99995                        None                                    None   \n",
       "99996                        None                                    None   \n",
       "99997                        None                                    None   \n",
       "99998              [COCUK, KADIN]                                   KADIN   \n",
       "99999              [ERKEK, KADIN]                                    None   \n",
       "\n",
       "      offline_product_group_name_12 last_order_date_new store_type  \n",
       "0                              None          2019-02-23          A  \n",
       "1                              None          2019-12-01          A  \n",
       "2                             ERKEK          2020-07-24          A  \n",
       "3                              None          2018-12-31          A  \n",
       "4                              None          2021-05-05          A  \n",
       "...                             ...                 ...        ...  \n",
       "99995                          None          2020-02-09          A  \n",
       "99996                          None          2019-12-29          A  \n",
       "99997                          None          2019-10-24          A  \n",
       "99998                          None          2021-05-13          A  \n",
       "99999                         ERKEK          2020-06-25          A  \n",
       "\n",
       "[100000 rows x 17 columns]"
      ]
     },
     "execution_count": 21,
     "metadata": {},
     "output_type": "execute_result"
    }
   ],
   "source": [
    "df.toPandas()"
   ]
  },
  {
   "cell_type": "code",
   "execution_count": 22,
   "metadata": {},
   "outputs": [],
   "source": [
    "df1 = df.na.fill(value=0, subset=[\"order_num_total_ever_online\", \"order_num_total_ever_offline\", \"customer_value_total_ever_online\", \"customer_value_total_ever_offline\"])\n",
    "          "
   ]
  },
  {
   "cell_type": "code",
   "execution_count": 23,
   "metadata": {},
   "outputs": [],
   "source": [
    "df1 = df1.withColumn(\"order_num_total\", df1.order_num_total_ever_online+df1.order_num_total_ever_offline)"
   ]
  },
  {
   "cell_type": "code",
   "execution_count": 24,
   "metadata": {},
   "outputs": [],
   "source": [
    "df1 = df1.withColumn(\"customer_value_total\", df1.customer_value_total_ever_online \\\n",
    "                                            +df1.customer_value_total_ever_offline)"
   ]
  },
  {
   "cell_type": "code",
   "execution_count": 25,
   "metadata": {},
   "outputs": [
    {
     "data": {
      "text/html": [
       "<div>\n",
       "<style scoped>\n",
       "    .dataframe tbody tr th:only-of-type {\n",
       "        vertical-align: middle;\n",
       "    }\n",
       "\n",
       "    .dataframe tbody tr th {\n",
       "        vertical-align: top;\n",
       "    }\n",
       "\n",
       "    .dataframe thead th {\n",
       "        text-align: right;\n",
       "    }\n",
       "</style>\n",
       "<table border=\"1\" class=\"dataframe\">\n",
       "  <thead>\n",
       "    <tr style=\"text-align: right;\">\n",
       "      <th></th>\n",
       "      <th>master_id</th>\n",
       "      <th>order_channel</th>\n",
       "      <th>platform_type</th>\n",
       "      <th>last_order_channel</th>\n",
       "      <th>first_order_date</th>\n",
       "      <th>last_order_date</th>\n",
       "      <th>last_order_date_online</th>\n",
       "      <th>last_order_date_offline</th>\n",
       "      <th>order_num_total_ever_online</th>\n",
       "      <th>order_num_total_ever_offline</th>\n",
       "      <th>customer_value_total_ever_offline</th>\n",
       "      <th>customer_value_total_ever_online</th>\n",
       "      <th>interested_in_categories_12</th>\n",
       "      <th>online_product_group_amount_top_name_12</th>\n",
       "      <th>offline_product_group_name_12</th>\n",
       "      <th>last_order_date_new</th>\n",
       "      <th>store_type</th>\n",
       "      <th>order_num_total</th>\n",
       "      <th>customer_value_total</th>\n",
       "    </tr>\n",
       "  </thead>\n",
       "  <tbody>\n",
       "    <tr>\n",
       "      <th>0</th>\n",
       "      <td>b3ace094-a17f-11e9-a2fc-000d3a38a36f</td>\n",
       "      <td>Offline</td>\n",
       "      <td>Offline</td>\n",
       "      <td>Offline</td>\n",
       "      <td>2019-02-23 12:59:17</td>\n",
       "      <td>2019-02-23 12:59:17</td>\n",
       "      <td>NaT</td>\n",
       "      <td>2019-02-23 12:59:17</td>\n",
       "      <td>0.0</td>\n",
       "      <td>1.0</td>\n",
       "      <td>212.98</td>\n",
       "      <td>0.00</td>\n",
       "      <td>None</td>\n",
       "      <td>None</td>\n",
       "      <td>None</td>\n",
       "      <td>2019-02-23</td>\n",
       "      <td>A</td>\n",
       "      <td>1.0</td>\n",
       "      <td>212.98</td>\n",
       "    </tr>\n",
       "    <tr>\n",
       "      <th>1</th>\n",
       "      <td>c57d7c4c-a950-11e9-a2fc-000d3a38a36f</td>\n",
       "      <td>Offline</td>\n",
       "      <td>OmniChannel</td>\n",
       "      <td>Offline</td>\n",
       "      <td>2019-12-01 16:48:09</td>\n",
       "      <td>2019-12-01 16:48:09</td>\n",
       "      <td>NaT</td>\n",
       "      <td>2019-12-01 16:48:09</td>\n",
       "      <td>0.0</td>\n",
       "      <td>1.0</td>\n",
       "      <td>199.98</td>\n",
       "      <td>0.00</td>\n",
       "      <td>None</td>\n",
       "      <td>None</td>\n",
       "      <td>None</td>\n",
       "      <td>2019-12-01</td>\n",
       "      <td>A</td>\n",
       "      <td>1.0</td>\n",
       "      <td>199.98</td>\n",
       "    </tr>\n",
       "    <tr>\n",
       "      <th>2</th>\n",
       "      <td>602897a6-cdac-11ea-b31f-000d3a38a36f</td>\n",
       "      <td>Offline</td>\n",
       "      <td>Offline</td>\n",
       "      <td>Offline</td>\n",
       "      <td>2020-07-24 15:49:47</td>\n",
       "      <td>2020-07-24 15:49:47</td>\n",
       "      <td>NaT</td>\n",
       "      <td>2020-07-24 15:49:47</td>\n",
       "      <td>0.0</td>\n",
       "      <td>1.0</td>\n",
       "      <td>140.49</td>\n",
       "      <td>0.00</td>\n",
       "      <td>[ERKEK]</td>\n",
       "      <td>None</td>\n",
       "      <td>ERKEK</td>\n",
       "      <td>2020-07-24</td>\n",
       "      <td>A</td>\n",
       "      <td>1.0</td>\n",
       "      <td>140.49</td>\n",
       "    </tr>\n",
       "    <tr>\n",
       "      <th>3</th>\n",
       "      <td>388e4c4e-af86-11e9-a2fc-000d3a38a36f</td>\n",
       "      <td>Mobile</td>\n",
       "      <td>Online</td>\n",
       "      <td>Mobile</td>\n",
       "      <td>2018-12-31 07:22:07</td>\n",
       "      <td>2018-12-31 07:22:07</td>\n",
       "      <td>2018-12-31 07:22:07</td>\n",
       "      <td>NaT</td>\n",
       "      <td>1.0</td>\n",
       "      <td>0.0</td>\n",
       "      <td>0.00</td>\n",
       "      <td>174.99</td>\n",
       "      <td>None</td>\n",
       "      <td>None</td>\n",
       "      <td>None</td>\n",
       "      <td>2018-12-31</td>\n",
       "      <td>A</td>\n",
       "      <td>1.0</td>\n",
       "      <td>174.99</td>\n",
       "    </tr>\n",
       "    <tr>\n",
       "      <th>4</th>\n",
       "      <td>80664354-adf0-11eb-8f64-000d3a299ebf</td>\n",
       "      <td>Desktop</td>\n",
       "      <td>Online</td>\n",
       "      <td>Desktop</td>\n",
       "      <td>2021-05-05 21:07:02</td>\n",
       "      <td>2021-05-05 22:39:36</td>\n",
       "      <td>2021-05-05 22:39:36</td>\n",
       "      <td>NaT</td>\n",
       "      <td>2.0</td>\n",
       "      <td>0.0</td>\n",
       "      <td>0.00</td>\n",
       "      <td>283.95</td>\n",
       "      <td>[]</td>\n",
       "      <td>None</td>\n",
       "      <td>None</td>\n",
       "      <td>2021-05-05</td>\n",
       "      <td>A</td>\n",
       "      <td>2.0</td>\n",
       "      <td>283.95</td>\n",
       "    </tr>\n",
       "  </tbody>\n",
       "</table>\n",
       "</div>"
      ],
      "text/plain": [
       "                              master_id order_channel platform_type  \\\n",
       "0  b3ace094-a17f-11e9-a2fc-000d3a38a36f       Offline       Offline   \n",
       "1  c57d7c4c-a950-11e9-a2fc-000d3a38a36f       Offline   OmniChannel   \n",
       "2  602897a6-cdac-11ea-b31f-000d3a38a36f       Offline       Offline   \n",
       "3  388e4c4e-af86-11e9-a2fc-000d3a38a36f        Mobile        Online   \n",
       "4  80664354-adf0-11eb-8f64-000d3a299ebf       Desktop        Online   \n",
       "\n",
       "  last_order_channel    first_order_date     last_order_date  \\\n",
       "0            Offline 2019-02-23 12:59:17 2019-02-23 12:59:17   \n",
       "1            Offline 2019-12-01 16:48:09 2019-12-01 16:48:09   \n",
       "2            Offline 2020-07-24 15:49:47 2020-07-24 15:49:47   \n",
       "3             Mobile 2018-12-31 07:22:07 2018-12-31 07:22:07   \n",
       "4            Desktop 2021-05-05 21:07:02 2021-05-05 22:39:36   \n",
       "\n",
       "  last_order_date_online last_order_date_offline  order_num_total_ever_online  \\\n",
       "0                    NaT     2019-02-23 12:59:17                          0.0   \n",
       "1                    NaT     2019-12-01 16:48:09                          0.0   \n",
       "2                    NaT     2020-07-24 15:49:47                          0.0   \n",
       "3    2018-12-31 07:22:07                     NaT                          1.0   \n",
       "4    2021-05-05 22:39:36                     NaT                          2.0   \n",
       "\n",
       "   order_num_total_ever_offline  customer_value_total_ever_offline  \\\n",
       "0                           1.0                             212.98   \n",
       "1                           1.0                             199.98   \n",
       "2                           1.0                             140.49   \n",
       "3                           0.0                               0.00   \n",
       "4                           0.0                               0.00   \n",
       "\n",
       "   customer_value_total_ever_online interested_in_categories_12  \\\n",
       "0                              0.00                        None   \n",
       "1                              0.00                        None   \n",
       "2                              0.00                     [ERKEK]   \n",
       "3                            174.99                        None   \n",
       "4                            283.95                          []   \n",
       "\n",
       "  online_product_group_amount_top_name_12 offline_product_group_name_12  \\\n",
       "0                                    None                          None   \n",
       "1                                    None                          None   \n",
       "2                                    None                         ERKEK   \n",
       "3                                    None                          None   \n",
       "4                                    None                          None   \n",
       "\n",
       "  last_order_date_new store_type  order_num_total  customer_value_total  \n",
       "0          2019-02-23          A              1.0                212.98  \n",
       "1          2019-12-01          A              1.0                199.98  \n",
       "2          2020-07-24          A              1.0                140.49  \n",
       "3          2018-12-31          A              1.0                174.99  \n",
       "4          2021-05-05          A              2.0                283.95  "
      ]
     },
     "execution_count": 25,
     "metadata": {},
     "output_type": "execute_result"
    }
   ],
   "source": [
    "df1.limit(5).toPandas()"
   ]
  },
  {
   "cell_type": "markdown",
   "metadata": {},
   "source": [
    "# Görev 2: veri analizi\n",
    "\n"
   ]
  },
  {
   "cell_type": "markdown",
   "metadata": {},
   "source": [
    "## Adım 4: Kanal incelemesi"
   ]
  },
  {
   "cell_type": "code",
   "execution_count": 26,
   "metadata": {},
   "outputs": [
    {
     "name": "stdout",
     "output_type": "stream",
     "text": [
      "+-------------+----------------+-------------------------+--------------------+\n",
      "|order_channel|count(master_id)|avg(customer_value_total)|avg(order_num_total)|\n",
      "+-------------+----------------+-------------------------+--------------------+\n",
      "|      Offline|           70784|       218.16394849122435|  1.6003475361663653|\n",
      "|      Ios App|            3964|        568.4640312815316|   3.377648839556004|\n",
      "|       Mobile|            8512|       391.74187617480754|   2.798637218045113|\n",
      "|      Desktop|            4751|        376.9135550410421|   2.538623447695222|\n",
      "|  Android App|           11989|        532.8462840937439|    3.50971724080407|\n",
      "+-------------+----------------+-------------------------+--------------------+\n",
      "\n"
     ]
    }
   ],
   "source": [
    "df1.groupBy(\"order_channel\").agg({\"master_id\":\"count\", \"order_num_total\": \"mean\", \"customer_value_total\": \"mean\"}).show()"
   ]
  },
  {
   "cell_type": "markdown",
   "metadata": {},
   "source": [
    "## Adım 5: Platforma göre satış değerleri"
   ]
  },
  {
   "cell_type": "code",
   "execution_count": 27,
   "metadata": {},
   "outputs": [
    {
     "name": "stdout",
     "output_type": "stream",
     "text": [
      "+-------------+----------------+-------------------------+--------------------+\n",
      "|platform_type|count(master_id)|avg(customer_value_total)|avg(order_num_total)|\n",
      "+-------------+----------------+-------------------------+--------------------+\n",
      "|      Offline|           65991|       215.73030686006084|  1.5837917291751906|\n",
      "|  OmniChannel|           12569|         500.793751292853|  3.4947092051873656|\n",
      "|       Online|           21440|       404.78965764924243|  2.6207089552238805|\n",
      "+-------------+----------------+-------------------------+--------------------+\n",
      "\n"
     ]
    }
   ],
   "source": [
    "df1.groupBy(\"platform_type\").agg({\"master_id\":\"count\", \"order_num_total\": \"mean\", \\\n",
    "                                  \"customer_value_total\": \"mean\"}).show()\n"
   ]
  },
  {
   "cell_type": "markdown",
   "metadata": {},
   "source": [
    "# Görev 3: K-Means Metriklerinin Hesaplanması"
   ]
  },
  {
   "cell_type": "markdown",
   "metadata": {},
   "source": [
    "## Adım 1: RFM"
   ]
  },
  {
   "cell_type": "markdown",
   "metadata": {},
   "source": [
    "#### master_id, last_order_date_new, order_num_total, customer_value_total değişkenlerinden rfmadında yeni bir dataframe oluşturunuz."
   ]
  },
  {
   "cell_type": "code",
   "execution_count": 28,
   "metadata": {},
   "outputs": [],
   "source": [
    "rfm = df1.select(\"master_id\", \"last_order_date_new\", \"order_num_total\", \"customer_value_total\")"
   ]
  },
  {
   "cell_type": "code",
   "execution_count": 29,
   "metadata": {},
   "outputs": [
    {
     "data": {
      "text/html": [
       "<div>\n",
       "<style scoped>\n",
       "    .dataframe tbody tr th:only-of-type {\n",
       "        vertical-align: middle;\n",
       "    }\n",
       "\n",
       "    .dataframe tbody tr th {\n",
       "        vertical-align: top;\n",
       "    }\n",
       "\n",
       "    .dataframe thead th {\n",
       "        text-align: right;\n",
       "    }\n",
       "</style>\n",
       "<table border=\"1\" class=\"dataframe\">\n",
       "  <thead>\n",
       "    <tr style=\"text-align: right;\">\n",
       "      <th></th>\n",
       "      <th>master_id</th>\n",
       "      <th>last_order_date_new</th>\n",
       "      <th>order_num_total</th>\n",
       "      <th>customer_value_total</th>\n",
       "    </tr>\n",
       "  </thead>\n",
       "  <tbody>\n",
       "    <tr>\n",
       "      <th>0</th>\n",
       "      <td>b3ace094-a17f-11e9-a2fc-000d3a38a36f</td>\n",
       "      <td>2019-02-23</td>\n",
       "      <td>1.0</td>\n",
       "      <td>212.98</td>\n",
       "    </tr>\n",
       "    <tr>\n",
       "      <th>1</th>\n",
       "      <td>c57d7c4c-a950-11e9-a2fc-000d3a38a36f</td>\n",
       "      <td>2019-12-01</td>\n",
       "      <td>1.0</td>\n",
       "      <td>199.98</td>\n",
       "    </tr>\n",
       "    <tr>\n",
       "      <th>2</th>\n",
       "      <td>602897a6-cdac-11ea-b31f-000d3a38a36f</td>\n",
       "      <td>2020-07-24</td>\n",
       "      <td>1.0</td>\n",
       "      <td>140.49</td>\n",
       "    </tr>\n",
       "    <tr>\n",
       "      <th>3</th>\n",
       "      <td>388e4c4e-af86-11e9-a2fc-000d3a38a36f</td>\n",
       "      <td>2018-12-31</td>\n",
       "      <td>1.0</td>\n",
       "      <td>174.99</td>\n",
       "    </tr>\n",
       "    <tr>\n",
       "      <th>4</th>\n",
       "      <td>80664354-adf0-11eb-8f64-000d3a299ebf</td>\n",
       "      <td>2021-05-05</td>\n",
       "      <td>2.0</td>\n",
       "      <td>283.95</td>\n",
       "    </tr>\n",
       "  </tbody>\n",
       "</table>\n",
       "</div>"
      ],
      "text/plain": [
       "                              master_id last_order_date_new  order_num_total  \\\n",
       "0  b3ace094-a17f-11e9-a2fc-000d3a38a36f          2019-02-23              1.0   \n",
       "1  c57d7c4c-a950-11e9-a2fc-000d3a38a36f          2019-12-01              1.0   \n",
       "2  602897a6-cdac-11ea-b31f-000d3a38a36f          2020-07-24              1.0   \n",
       "3  388e4c4e-af86-11e9-a2fc-000d3a38a36f          2018-12-31              1.0   \n",
       "4  80664354-adf0-11eb-8f64-000d3a299ebf          2021-05-05              2.0   \n",
       "\n",
       "   customer_value_total  \n",
       "0                212.98  \n",
       "1                199.98  \n",
       "2                140.49  \n",
       "3                174.99  \n",
       "4                283.95  "
      ]
     },
     "execution_count": 29,
     "metadata": {},
     "output_type": "execute_result"
    }
   ],
   "source": [
    "rfm.limit(5).toPandas()"
   ]
  },
  {
   "cell_type": "markdown",
   "metadata": {},
   "source": [
    "## Adım 2: Son satın alım tarihi"
   ]
  },
  {
   "cell_type": "markdown",
   "metadata": {},
   "source": [
    "#### last_order_date değişkeni üzerinden son satın alım tarihini bulunuz."
   ]
  },
  {
   "cell_type": "code",
   "execution_count": 34,
   "metadata": {},
   "outputs": [
    {
     "name": "stdout",
     "output_type": "stream",
     "text": [
      "2021-05-30\n"
     ]
    }
   ],
   "source": [
    "last_order_date = df.agg({'last_order_date_new':'max'}).collect()[0][0]\n",
    "\n",
    "print(last_order_date)"
   ]
  },
  {
   "cell_type": "markdown",
   "metadata": {},
   "source": [
    "## Adım 3: Recency"
   ]
  },
  {
   "cell_type": "markdown",
   "metadata": {},
   "source": [
    "#### Bulduğunuz son satın alım tarihinin iki gün sonrasını baz alarak, her müşterinin son satın alma sürelerini gün cinsinden hesaplayınız.\n",
    "\n",
    "#### Hesapladığınız değişkeni Recency adında kaydediniz."
   ]
  },
  {
   "cell_type": "code",
   "execution_count": 36,
   "metadata": {},
   "outputs": [],
   "source": [
    "rfm = rfm.withColumn(\"Recency\", F.expr(f\"datediff('{last_order_date}', last_order_date_new) + 2\"))"
   ]
  },
  {
   "cell_type": "code",
   "execution_count": 37,
   "metadata": {},
   "outputs": [
    {
     "data": {
      "text/html": [
       "<div>\n",
       "<style scoped>\n",
       "    .dataframe tbody tr th:only-of-type {\n",
       "        vertical-align: middle;\n",
       "    }\n",
       "\n",
       "    .dataframe tbody tr th {\n",
       "        vertical-align: top;\n",
       "    }\n",
       "\n",
       "    .dataframe thead th {\n",
       "        text-align: right;\n",
       "    }\n",
       "</style>\n",
       "<table border=\"1\" class=\"dataframe\">\n",
       "  <thead>\n",
       "    <tr style=\"text-align: right;\">\n",
       "      <th></th>\n",
       "      <th>master_id</th>\n",
       "      <th>last_order_date_new</th>\n",
       "      <th>order_num_total</th>\n",
       "      <th>customer_value_total</th>\n",
       "      <th>Recency</th>\n",
       "    </tr>\n",
       "  </thead>\n",
       "  <tbody>\n",
       "    <tr>\n",
       "      <th>0</th>\n",
       "      <td>b3ace094-a17f-11e9-a2fc-000d3a38a36f</td>\n",
       "      <td>2019-02-23</td>\n",
       "      <td>1.0</td>\n",
       "      <td>212.98</td>\n",
       "      <td>829</td>\n",
       "    </tr>\n",
       "    <tr>\n",
       "      <th>1</th>\n",
       "      <td>c57d7c4c-a950-11e9-a2fc-000d3a38a36f</td>\n",
       "      <td>2019-12-01</td>\n",
       "      <td>1.0</td>\n",
       "      <td>199.98</td>\n",
       "      <td>548</td>\n",
       "    </tr>\n",
       "    <tr>\n",
       "      <th>2</th>\n",
       "      <td>602897a6-cdac-11ea-b31f-000d3a38a36f</td>\n",
       "      <td>2020-07-24</td>\n",
       "      <td>1.0</td>\n",
       "      <td>140.49</td>\n",
       "      <td>312</td>\n",
       "    </tr>\n",
       "  </tbody>\n",
       "</table>\n",
       "</div>"
      ],
      "text/plain": [
       "                              master_id last_order_date_new  order_num_total  \\\n",
       "0  b3ace094-a17f-11e9-a2fc-000d3a38a36f          2019-02-23              1.0   \n",
       "1  c57d7c4c-a950-11e9-a2fc-000d3a38a36f          2019-12-01              1.0   \n",
       "2  602897a6-cdac-11ea-b31f-000d3a38a36f          2020-07-24              1.0   \n",
       "\n",
       "   customer_value_total  Recency  \n",
       "0                212.98      829  \n",
       "1                199.98      548  \n",
       "2                140.49      312  "
      ]
     },
     "execution_count": 37,
     "metadata": {},
     "output_type": "execute_result"
    }
   ],
   "source": [
    "rfm.limit(3).toPandas()"
   ]
  },
  {
   "cell_type": "markdown",
   "metadata": {},
   "source": [
    "## Adım 4: Yeniden isimlendirme"
   ]
  },
  {
   "cell_type": "markdown",
   "metadata": {},
   "source": [
    "####  order_num_total değişkenini Frequency\n",
    "####  customer_value_total değişkenini Monetary adında değiştiriniz."
   ]
  },
  {
   "cell_type": "code",
   "execution_count": 38,
   "metadata": {},
   "outputs": [],
   "source": [
    "rfm = rfm.withColumnRenamed(\"order_num_total\", \"Frequency\") \\\n",
    "         .withColumnRenamed(\"customer_value_total\", \"Monetary\")"
   ]
  },
  {
   "cell_type": "markdown",
   "metadata": {},
   "source": [
    "## Adım 5: Filtre"
   ]
  },
  {
   "cell_type": "markdown",
   "metadata": {},
   "source": [
    "#### last_order_date_newdeğişkenini rfmdataframeden çıkarınız."
   ]
  },
  {
   "cell_type": "code",
   "execution_count": 40,
   "metadata": {},
   "outputs": [],
   "source": [
    "rfm = rfm.drop(\"last_order_date_new\")"
   ]
  },
  {
   "cell_type": "code",
   "execution_count": 42,
   "metadata": {},
   "outputs": [
    {
     "name": "stdout",
     "output_type": "stream",
     "text": [
      "+--------------------+---------+------------------+-------+\n",
      "|           master_id|Frequency|          Monetary|Recency|\n",
      "+--------------------+---------+------------------+-------+\n",
      "|b3ace094-a17f-11e...|      1.0|            212.98|    829|\n",
      "|c57d7c4c-a950-11e...|      1.0|            199.98|    548|\n",
      "|602897a6-cdac-11e...|      1.0|            140.49|    312|\n",
      "|388e4c4e-af86-11e...|      1.0|            174.99|    883|\n",
      "|80664354-adf0-11e...|      2.0|            283.95|     27|\n",
      "|47511f36-aeb4-11e...|      1.0|            139.98|    933|\n",
      "|77f7c318-3407-11e...|      1.0|             269.9|    182|\n",
      "|399d6dd2-ecf1-11e...|      1.0|             95.73|    272|\n",
      "|b3d4a6f2-a368-11e...|      3.0|            207.94|    250|\n",
      "|42fdccd4-f1d1-11e...|      1.0|            134.95|    226|\n",
      "|071b497c-a5d2-11e...|      7.0|            399.94|     71|\n",
      "|47d99768-30ea-11e...|      2.0|            304.89|    667|\n",
      "|f879c85e-5322-11e...|      1.0|            100.49|    488|\n",
      "|cfb38c70-b1e7-11e...|      3.0|208.95999999999998|    507|\n",
      "|96cae10c-bbd1-11e...|      2.0|            359.96|    335|\n",
      "|20df63fa-5411-11e...|      1.0|             39.99|    501|\n",
      "|757fc81a-7378-11e...|      2.0|            630.94|     67|\n",
      "|c9fcbc34-d739-11e...|      1.0|            289.99|    300|\n",
      "|9f44ad8c-21fc-11e...|      1.0|            189.99|    788|\n",
      "|3fcf9680-9765-11e...|      1.0|             89.99|    385|\n",
      "+--------------------+---------+------------------+-------+\n",
      "only showing top 20 rows\n",
      "\n"
     ]
    }
   ],
   "source": [
    "rfm.show()"
   ]
  },
  {
   "cell_type": "markdown",
   "metadata": {},
   "source": [
    "# Görev 4: Modele Hazırlık"
   ]
  },
  {
   "cell_type": "markdown",
   "metadata": {},
   "source": [
    "## Adım 1: Vector Assembler"
   ]
  },
  {
   "cell_type": "code",
   "execution_count": 52,
   "metadata": {},
   "outputs": [],
   "source": [
    "from pyspark.ml.feature import VectorAssembler\n"
   ]
  },
  {
   "cell_type": "code",
   "execution_count": 59,
   "metadata": {},
   "outputs": [],
   "source": [
    "rfm_col=[\"Recency\", \"Monetary\", \"Frequency\"]"
   ]
  },
  {
   "cell_type": "code",
   "execution_count": 60,
   "metadata": {},
   "outputs": [],
   "source": [
    "assembler = VectorAssembler() \\\n",
    ".setInputCols(rfm_col) \\\n",
    ".setOutputCol(\"unscaled_features\")"
   ]
  },
  {
   "cell_type": "markdown",
   "metadata": {},
   "source": [
    "## Adım 2: Standart Scaler"
   ]
  },
  {
   "cell_type": "code",
   "execution_count": 61,
   "metadata": {},
   "outputs": [],
   "source": [
    "    from pyspark.ml.feature import StandardScaler\n",
    "    scaler = StandardScaler().setInputCol(\"unscaled_features\").setOutputCol(\"features\")"
   ]
  },
  {
   "cell_type": "markdown",
   "metadata": {},
   "source": [
    "## Adım 3: Pipeline"
   ]
  },
  {
   "cell_type": "code",
   "execution_count": 62,
   "metadata": {},
   "outputs": [],
   "source": [
    "from pyspark.ml import Pipeline"
   ]
  },
  {
   "cell_type": "code",
   "execution_count": 63,
   "metadata": {},
   "outputs": [],
   "source": [
    "pipeline_obj = Pipeline().setStages([assembler, scaler])\n"
   ]
  },
  {
   "cell_type": "code",
   "execution_count": 64,
   "metadata": {},
   "outputs": [],
   "source": [
    "pipeline_model = pipeline_obj.fit(rfm)\n"
   ]
  },
  {
   "cell_type": "code",
   "execution_count": 65,
   "metadata": {},
   "outputs": [],
   "source": [
    "pipeline_df = pipeline_model.transform(rfm)"
   ]
  },
  {
   "cell_type": "code",
   "execution_count": 66,
   "metadata": {},
   "outputs": [
    {
     "data": {
      "text/html": [
       "<div>\n",
       "<style scoped>\n",
       "    .dataframe tbody tr th:only-of-type {\n",
       "        vertical-align: middle;\n",
       "    }\n",
       "\n",
       "    .dataframe tbody tr th {\n",
       "        vertical-align: top;\n",
       "    }\n",
       "\n",
       "    .dataframe thead th {\n",
       "        text-align: right;\n",
       "    }\n",
       "</style>\n",
       "<table border=\"1\" class=\"dataframe\">\n",
       "  <thead>\n",
       "    <tr style=\"text-align: right;\">\n",
       "      <th></th>\n",
       "      <th>master_id</th>\n",
       "      <th>Frequency</th>\n",
       "      <th>Monetary</th>\n",
       "      <th>Recency</th>\n",
       "      <th>unscaled_features</th>\n",
       "      <th>features</th>\n",
       "    </tr>\n",
       "  </thead>\n",
       "  <tbody>\n",
       "    <tr>\n",
       "      <th>0</th>\n",
       "      <td>b3ace094-a17f-11e9-a2fc-000d3a38a36f</td>\n",
       "      <td>1.0</td>\n",
       "      <td>212.98</td>\n",
       "      <td>829</td>\n",
       "      <td>[829.0, 212.98, 1.0]</td>\n",
       "      <td>[3.2479381193525994, 0.45988105764451537, 0.32...</td>\n",
       "    </tr>\n",
       "    <tr>\n",
       "      <th>1</th>\n",
       "      <td>c57d7c4c-a950-11e9-a2fc-000d3a38a36f</td>\n",
       "      <td>1.0</td>\n",
       "      <td>199.98</td>\n",
       "      <td>548</td>\n",
       "      <td>[548.0, 199.98, 1.0]</td>\n",
       "      <td>[2.1470085517553974, 0.4318105639391031, 0.327...</td>\n",
       "    </tr>\n",
       "    <tr>\n",
       "      <th>2</th>\n",
       "      <td>602897a6-cdac-11ea-b31f-000d3a38a36f</td>\n",
       "      <td>1.0</td>\n",
       "      <td>140.49</td>\n",
       "      <td>312</td>\n",
       "      <td>[312.0, 140.49, 1.0]</td>\n",
       "      <td>[1.2223844309264307, 0.3033556662056436, 0.327...</td>\n",
       "    </tr>\n",
       "    <tr>\n",
       "      <th>3</th>\n",
       "      <td>388e4c4e-af86-11e9-a2fc-000d3a38a36f</td>\n",
       "      <td>1.0</td>\n",
       "      <td>174.99</td>\n",
       "      <td>883</td>\n",
       "      <td>[883.0, 174.99, 1.0]</td>\n",
       "      <td>[3.4595046554744817, 0.37785043796231454, 0.32...</td>\n",
       "    </tr>\n",
       "    <tr>\n",
       "      <th>4</th>\n",
       "      <td>80664354-adf0-11eb-8f64-000d3a299ebf</td>\n",
       "      <td>2.0</td>\n",
       "      <td>283.95</td>\n",
       "      <td>27</td>\n",
       "      <td>[27.0, 283.95, 2.0]</td>\n",
       "      <td>[0.10578326806094111, 0.6131243605886005, 0.65...</td>\n",
       "    </tr>\n",
       "  </tbody>\n",
       "</table>\n",
       "</div>"
      ],
      "text/plain": [
       "                              master_id  Frequency  Monetary  Recency  \\\n",
       "0  b3ace094-a17f-11e9-a2fc-000d3a38a36f        1.0    212.98      829   \n",
       "1  c57d7c4c-a950-11e9-a2fc-000d3a38a36f        1.0    199.98      548   \n",
       "2  602897a6-cdac-11ea-b31f-000d3a38a36f        1.0    140.49      312   \n",
       "3  388e4c4e-af86-11e9-a2fc-000d3a38a36f        1.0    174.99      883   \n",
       "4  80664354-adf0-11eb-8f64-000d3a299ebf        2.0    283.95       27   \n",
       "\n",
       "      unscaled_features                                           features  \n",
       "0  [829.0, 212.98, 1.0]  [3.2479381193525994, 0.45988105764451537, 0.32...  \n",
       "1  [548.0, 199.98, 1.0]  [2.1470085517553974, 0.4318105639391031, 0.327...  \n",
       "2  [312.0, 140.49, 1.0]  [1.2223844309264307, 0.3033556662056436, 0.327...  \n",
       "3  [883.0, 174.99, 1.0]  [3.4595046554744817, 0.37785043796231454, 0.32...  \n",
       "4   [27.0, 283.95, 2.0]  [0.10578326806094111, 0.6131243605886005, 0.65...  "
      ]
     },
     "execution_count": 66,
     "metadata": {},
     "output_type": "execute_result"
    }
   ],
   "source": [
    "pipeline_df.limit(5).toPandas()"
   ]
  },
  {
   "cell_type": "markdown",
   "metadata": {},
   "source": [
    "# Görev 5: K-Means"
   ]
  },
  {
   "cell_type": "markdown",
   "metadata": {},
   "source": [
    "## Adım 1: Optimum küme sayısı"
   ]
  },
  {
   "cell_type": "code",
   "execution_count": 67,
   "metadata": {},
   "outputs": [],
   "source": [
    "from pyspark.ml.clustering import KMeans"
   ]
  },
  {
   "cell_type": "code",
   "execution_count": 68,
   "metadata": {},
   "outputs": [],
   "source": [
    "def compute_kmeans_model(df, k):\n",
    "    kmeansObject = KMeans() \\\n",
    "        .setSeed(142) \\\n",
    "        .setK(k)\n",
    "    \n",
    "    return kmeansObject.fit(df)"
   ]
  },
  {
   "cell_type": "code",
   "execution_count": 69,
   "metadata": {},
   "outputs": [],
   "source": [
    "from pyspark.ml.evaluation import ClusteringEvaluator"
   ]
  },
  {
   "cell_type": "code",
   "execution_count": 70,
   "metadata": {},
   "outputs": [],
   "source": [
    "evaluator = ClusteringEvaluator()"
   ]
  },
  {
   "cell_type": "code",
   "execution_count": 71,
   "metadata": {},
   "outputs": [
    {
     "name": "stdout",
     "output_type": "stream",
     "text": [
      "k: 2, score: 0.4403139929816347\n",
      "k: 3, score: 0.6541986035114529\n",
      "k: 4, score: 0.6705260499487318\n",
      "k: 5, score: 0.4990680393948446\n",
      "k: 6, score: 0.6819967508140029\n",
      "k: 7, score: 0.5436509449286715\n",
      "k: 8, score: 0.5483133950372348\n",
      "k: 9, score: 0.5248550689192687\n",
      "k: 10, score: 0.5198657792973086\n"
     ]
    }
   ],
   "source": [
    "for k in range(2,11):\n",
    "    kmeans_model = compute_kmeans_model(pipeline_df, k)\n",
    "    \n",
    "    transformed_df = kmeans_model.transform(pipeline_df)\n",
    "    \n",
    "    score = evaluator.evaluate(transformed_df)\n",
    "    \n",
    "    print(\"k: {}, score: {}\" .format(k, score))"
   ]
  },
  {
   "cell_type": "markdown",
   "metadata": {},
   "source": [
    "## Adım 2: Final Model"
   ]
  },
  {
   "cell_type": "code",
   "execution_count": 86,
   "metadata": {},
   "outputs": [],
   "source": [
    "kmeans_model = compute_kmeans_model(pipeline_df, 3)"
   ]
  },
  {
   "cell_type": "code",
   "execution_count": 87,
   "metadata": {},
   "outputs": [],
   "source": [
    "transformed_df = kmeans_model.transform(pipeline_df)"
   ]
  },
  {
   "cell_type": "code",
   "execution_count": 88,
   "metadata": {},
   "outputs": [
    {
     "data": {
      "text/html": [
       "<div>\n",
       "<style scoped>\n",
       "    .dataframe tbody tr th:only-of-type {\n",
       "        vertical-align: middle;\n",
       "    }\n",
       "\n",
       "    .dataframe tbody tr th {\n",
       "        vertical-align: top;\n",
       "    }\n",
       "\n",
       "    .dataframe thead th {\n",
       "        text-align: right;\n",
       "    }\n",
       "</style>\n",
       "<table border=\"1\" class=\"dataframe\">\n",
       "  <thead>\n",
       "    <tr style=\"text-align: right;\">\n",
       "      <th></th>\n",
       "      <th>master_id</th>\n",
       "      <th>Frequency</th>\n",
       "      <th>Monetary</th>\n",
       "      <th>Recency</th>\n",
       "      <th>unscaled_features</th>\n",
       "      <th>features</th>\n",
       "      <th>prediction</th>\n",
       "    </tr>\n",
       "  </thead>\n",
       "  <tbody>\n",
       "    <tr>\n",
       "      <th>0</th>\n",
       "      <td>b3ace094-a17f-11e9-a2fc-000d3a38a36f</td>\n",
       "      <td>1.0</td>\n",
       "      <td>212.98</td>\n",
       "      <td>829</td>\n",
       "      <td>[829.0, 212.98, 1.0]</td>\n",
       "      <td>[3.2479381193525994, 0.45988105764451537, 0.32...</td>\n",
       "      <td>1</td>\n",
       "    </tr>\n",
       "    <tr>\n",
       "      <th>1</th>\n",
       "      <td>c57d7c4c-a950-11e9-a2fc-000d3a38a36f</td>\n",
       "      <td>1.0</td>\n",
       "      <td>199.98</td>\n",
       "      <td>548</td>\n",
       "      <td>[548.0, 199.98, 1.0]</td>\n",
       "      <td>[2.1470085517553974, 0.4318105639391031, 0.327...</td>\n",
       "      <td>1</td>\n",
       "    </tr>\n",
       "    <tr>\n",
       "      <th>2</th>\n",
       "      <td>602897a6-cdac-11ea-b31f-000d3a38a36f</td>\n",
       "      <td>1.0</td>\n",
       "      <td>140.49</td>\n",
       "      <td>312</td>\n",
       "      <td>[312.0, 140.49, 1.0]</td>\n",
       "      <td>[1.2223844309264307, 0.3033556662056436, 0.327...</td>\n",
       "      <td>0</td>\n",
       "    </tr>\n",
       "    <tr>\n",
       "      <th>3</th>\n",
       "      <td>388e4c4e-af86-11e9-a2fc-000d3a38a36f</td>\n",
       "      <td>1.0</td>\n",
       "      <td>174.99</td>\n",
       "      <td>883</td>\n",
       "      <td>[883.0, 174.99, 1.0]</td>\n",
       "      <td>[3.4595046554744817, 0.37785043796231454, 0.32...</td>\n",
       "      <td>1</td>\n",
       "    </tr>\n",
       "    <tr>\n",
       "      <th>4</th>\n",
       "      <td>80664354-adf0-11eb-8f64-000d3a299ebf</td>\n",
       "      <td>2.0</td>\n",
       "      <td>283.95</td>\n",
       "      <td>27</td>\n",
       "      <td>[27.0, 283.95, 2.0]</td>\n",
       "      <td>[0.10578326806094111, 0.6131243605886005, 0.65...</td>\n",
       "      <td>0</td>\n",
       "    </tr>\n",
       "  </tbody>\n",
       "</table>\n",
       "</div>"
      ],
      "text/plain": [
       "                              master_id  Frequency  Monetary  Recency  \\\n",
       "0  b3ace094-a17f-11e9-a2fc-000d3a38a36f        1.0    212.98      829   \n",
       "1  c57d7c4c-a950-11e9-a2fc-000d3a38a36f        1.0    199.98      548   \n",
       "2  602897a6-cdac-11ea-b31f-000d3a38a36f        1.0    140.49      312   \n",
       "3  388e4c4e-af86-11e9-a2fc-000d3a38a36f        1.0    174.99      883   \n",
       "4  80664354-adf0-11eb-8f64-000d3a299ebf        2.0    283.95       27   \n",
       "\n",
       "      unscaled_features                                           features  \\\n",
       "0  [829.0, 212.98, 1.0]  [3.2479381193525994, 0.45988105764451537, 0.32...   \n",
       "1  [548.0, 199.98, 1.0]  [2.1470085517553974, 0.4318105639391031, 0.327...   \n",
       "2  [312.0, 140.49, 1.0]  [1.2223844309264307, 0.3033556662056436, 0.327...   \n",
       "3  [883.0, 174.99, 1.0]  [3.4595046554744817, 0.37785043796231454, 0.32...   \n",
       "4   [27.0, 283.95, 2.0]  [0.10578326806094111, 0.6131243605886005, 0.65...   \n",
       "\n",
       "   prediction  \n",
       "0           1  \n",
       "1           1  \n",
       "2           0  \n",
       "3           1  \n",
       "4           0  "
      ]
     },
     "execution_count": 88,
     "metadata": {},
     "output_type": "execute_result"
    }
   ],
   "source": [
    "transformed_df.limit(5).toPandas()"
   ]
  },
  {
   "cell_type": "markdown",
   "metadata": {},
   "source": [
    "## Adım 3: Tanımlayıcı istatistikler"
   ]
  },
  {
   "cell_type": "code",
   "execution_count": 95,
   "metadata": {},
   "outputs": [],
   "source": [
    "from pyspark.sql.functions import sum, mean, count, desc"
   ]
  },
  {
   "cell_type": "code",
   "execution_count": 97,
   "metadata": {},
   "outputs": [
    {
     "name": "stdout",
     "output_type": "stream",
     "text": [
      "+----------+-----+-----------------+------------------+------------------+\n",
      "|prediction|count|     AVG_Monetary|     AVG_Frequency|       AVG_Recency|\n",
      "+----------+-----+-----------------+------------------+------------------+\n",
      "|         2| 2182|2089.541549037581|13.179193400549954|188.68744271310723|\n",
      "|         0|43394|342.1480506521844| 2.233096741484998| 172.7388809512836|\n",
      "|         1|54424|180.1204143392638|1.4509958841687491| 614.6668932823754|\n",
      "+----------+-----+-----------------+------------------+------------------+\n",
      "\n"
     ]
    }
   ],
   "source": [
    "transformed_df.groupBy(\"prediction\") \\\n",
    ".agg(count(\"Monetary\").alias(\"count\"), \\\n",
    "     mean(\"Monetary\").alias(\"AVG_Monetary\"), \\\n",
    "     mean(\"Frequency\").alias(\"AVG_Frequency\"), \\\n",
    "     mean(\"Recency\").alias(\"AVG_Recency\")) \\\n",
    ".sort(desc(\"AVG_Monetary\")).show()"
   ]
  },
  {
   "cell_type": "code",
   "execution_count": null,
   "metadata": {},
   "outputs": [],
   "source": []
  },
  {
   "cell_type": "code",
   "execution_count": 89,
   "metadata": {},
   "outputs": [],
   "source": [
    "from pyspark.sql.functions import sum, col, desc, mean, count"
   ]
  }
 ],
 "metadata": {
  "kernelspec": {
   "display_name": "venvspark",
   "language": "python",
   "name": "venvspark"
  },
  "language_info": {
   "codemirror_mode": {
    "name": "ipython",
    "version": 3
   },
   "file_extension": ".py",
   "mimetype": "text/x-python",
   "name": "python",
   "nbconvert_exporter": "python",
   "pygments_lexer": "ipython3",
   "version": "3.6.8"
  }
 },
 "nbformat": 4,
 "nbformat_minor": 4
}
